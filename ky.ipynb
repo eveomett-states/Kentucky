{
 "cells": [
  {
   "cell_type": "markdown",
   "id": "48a72edc-10d5-447e-bf59-a42b79b13098",
   "metadata": {},
   "source": [
    "# All the parameters that need to be changed"
   ]
  },
  {
   "cell_type": "code",
   "execution_count": 2,
   "id": "55545525-1a53-4366-88fa-4b4ecc94ecad",
   "metadata": {},
   "outputs": [],
   "source": [
    "# Kenturky\n",
    "state_ab = \"ky\""
   ]
  },
  {
   "cell_type": "markdown",
   "id": "c3e1bdeb-55c5-4c10-83b5-de352e6d559d",
   "metadata": {
    "tags": []
   },
   "source": [
    "## Data\n",
    "1. Download all the data in directory \"ky_data\"\n",
    "2. Extract them all"
   ]
  },
  {
   "cell_type": "code",
   "execution_count": 4,
   "id": "1cbb32f0-472b-4441-abf2-6af58699cb5f",
   "metadata": {},
   "outputs": [],
   "source": [
    "data_folder = state_ab + \"_data/\"\n",
    "population1_data = \"./{}{}_pl2020_b/{}_pl2020_p1_b.shp\".format(data_folder, state_ab, state_ab)\n",
    "population2_data = \"./{}{}_pl2020_b/{}_pl2020_p2_b.shp\".format(data_folder, state_ab, state_ab)\n",
    "vap_data =  \"./{}{}_pl2020_b/{}_pl2020_p4_b.shp\".format(data_folder, state_ab, state_ab)\n",
    "vest20_data = \"./{}{}_vest_20/{}_vest_20.shp\".format(data_folder, state_ab, state_ab)\n",
    "vest19_data = \"./{}{}_vest_19/{}_vest_19.shp\".format(data_folder, state_ab, state_ab)\n",
    "vest16_data = \"./{}{}_vest_16/{}_vest_16.shp\".format(data_folder, state_ab, state_ab)\n",
    "cd_data = \"./{}{}_cong_adopted_2022/C1278B01 (22RS-SB3).shp\".format(data_folder, state_ab)\n",
    "send_data = \"./{}{}_sldu_adopted_2022/S1301B01 (22RS-SB2).shp\".format(data_folder, state_ab)\n",
    "hdist_data = \"./{}{}_sldl_adopted_2022/HH002C03 (22RS-HB2 HCS1).shp\".format(data_folder, state_ab)\n",
    "county_data = \"./{}{}_pl2020_cnty/{}_pl2020_cnty.shp\".format(data_folder, state_ab, state_ab)"
   ]
  },
  {
   "cell_type": "markdown",
   "id": "2594a66a-efb1-443f-8b0a-b2c73257f1cc",
   "metadata": {},
   "source": [
    "## Parameters that needs to be manually checked\n",
    "\n",
    "### base vest data\n",
    "start_col = 4\\\n",
    "vest_base_data = vest19\\\n",
    "year = '19'\n",
    "\n",
    "### district data\n",
    "district column name of cong_df, send, hdist when calling add_dist()"
   ]
  },
  {
   "cell_type": "markdown",
   "id": "d9cfe42b-cfd8-4ad4-b255-31268cb35669",
   "metadata": {},
   "source": [
    "# Program starts"
   ]
  },
  {
   "cell_type": "code",
   "execution_count": 7,
   "id": "49a264d4-c255-4393-b5ae-74b6f7c645da",
   "metadata": {},
   "outputs": [],
   "source": [
    "import pandas as pd\n",
    "import geopandas as gpd\n",
    "import maup\n",
    "import time\n",
    "from maup import smart_repair\n",
    "from gerrychain import Graph\n",
    "import os\n",
    "\n",
    "maup.progress.enabled = True"
   ]
  },
  {
   "cell_type": "code",
   "execution_count": 8,
   "id": "f78d28b6-abb4-4444-aa7e-f0eb73dab3f2",
   "metadata": {},
   "outputs": [],
   "source": [
    "import warnings\n",
    "warnings.filterwarnings(\"ignore\")"
   ]
  },
  {
   "cell_type": "code",
   "execution_count": 9,
   "id": "378425b3-9819-41bd-8212-2e031b571cf2",
   "metadata": {},
   "outputs": [],
   "source": [
    "def do_smart_repair(df, min_rook_length = None, snap_precision = 10):\n",
    "    # change it to the UTM it needs for smart_repair\n",
    "    df = df.to_crs(df.estimate_utm_crs())\n",
    "    df = smart_repair(df, min_rook_length = min_rook_length, snap_precision = snap_precision)\n",
    "\n",
    "    if maup.doctor(df) == False:\n",
    "        #raise Exception('maup.doctor failed')\n",
    "        print(\"Perhaps smart repair failed?\")\n",
    "        return df\n",
    "    return df"
   ]
  },
  {
   "cell_type": "code",
   "execution_count": 10,
   "id": "df3945da-c3af-41a8-9511-a5aba33fef0b",
   "metadata": {},
   "outputs": [],
   "source": [
    "def add_district(dist_df, dist_name, election_df, col_name):\n",
    "    election_df = election_df.to_crs(election_df.estimate_utm_crs())\n",
    "    dist_df = dist_df.to_crs(dist_df.estimate_utm_crs())\n",
    "    # check if it needs to be smart_repair\n",
    "    if maup.doctor(dist_df) != True:\n",
    "        dist_df = do_smart_repair(dist_df)\n",
    "\n",
    "    # assign the pricincts\n",
    "    precincts_to_district_assignment = maup.assign(election_df.geometry, dist_df.geometry)\n",
    "    election_df[dist_name] = precincts_to_district_assignment\n",
    "    for precinct_index in range(len(election_df)):\n",
    "        election_df.at[precinct_index, dist_name] = dist_df.at[election_df.at[precinct_index, dist_name], col_name]\n",
    "\n",
    "    return election_df"
   ]
  },
  {
   "cell_type": "code",
   "execution_count": 11,
   "id": "29c38a31-6707-4ab3-a9e4-38d69ce6838c",
   "metadata": {},
   "outputs": [],
   "source": [
    "def rename(original, year):\n",
    "    party = original[6]\n",
    "    if party == 'R' or party == 'D':\n",
    "        return original[3:6] + year + original[6]\n",
    "    else:\n",
    "        return original[3:6] + year + 'O'"
   ]
  },
  {
   "cell_type": "code",
   "execution_count": 12,
   "id": "9cbd02f8-308e-4fe9-804a-6bc8474b749b",
   "metadata": {},
   "outputs": [],
   "source": [
    "def check_population(population, df):\n",
    "    pop_check = pd.DataFrame({\n",
    "        'pop_col': pop_col,\n",
    "        'population_df': population[pop_col].sum(), \n",
    "        'vest_base': df[pop_col].sum(),\n",
    "        'equal': [x == y for x, y in zip(population[pop_col].sum(), df[pop_col].sum())]\n",
    "    })\n",
    "    if pop_check['equal'].mean() < 1:\n",
    "        print(pop_check)\n",
    "        raise Exception(\"population doesn't agree\")\n",
    "\n",
    "    else:\n",
    "        print(\"population agrees\")"
   ]
  },
  {
   "cell_type": "code",
   "execution_count": 13,
   "id": "c4508baf-84cd-4a31-97ad-059164232e8e",
   "metadata": {},
   "outputs": [],
   "source": [
    "def add_vest(vest, df, year, population, start_col, snap_precision = 10):\n",
    "    df = df.to_crs(df.estimate_utm_crs())\n",
    "    vest = vest.to_crs(vest.estimate_utm_crs())\n",
    "    population = population.to_crs(population.estimate_utm_crs())\n",
    "    df_crs = df.crs\n",
    "    vest_crs = vest.crs\n",
    "    \n",
    "     # check if it needs to be smart_repair\n",
    "    if maup.doctor(vest) != True:\n",
    "        vest = do_smart_repair(vest, snap_precision = snap_precision)\n",
    "    \n",
    "    # rename the columns\n",
    "    original_col = vest.columns[start_col:-1]\n",
    "    new_col = [rename(i, year) for i in original_col]\n",
    "    rename_dict = dict(zip(original_col, new_col))\n",
    "    vest = vest.rename(columns=rename_dict)\n",
    "    vest = vest.groupby(level=0, axis=1).sum() # combine all the other party's vote into columns with sufix \"O\"\n",
    "    col_name = list(set(new_col))\n",
    "    col_name.sort()\n",
    "    \n",
    "    # make the blocks from precincts by weight\n",
    "    vest = gpd.GeoDataFrame(vest, crs=vest_crs)\n",
    "    election_in_block = population[[\"VAP\", 'geometry']] # population_df is in block scale\n",
    "    blocks_to_precincts_assignment = maup.assign(election_in_block.geometry, vest.geometry)\n",
    "    weights = election_in_block[\"VAP\"] / blocks_to_precincts_assignment.map(election_in_block[\"VAP\"].groupby(blocks_to_precincts_assignment).sum())\n",
    "    weights = weights.fillna(0)\n",
    "    prorated = maup.prorate(blocks_to_precincts_assignment, vest[col_name], weights)\n",
    "    election_in_block[col_name] = prorated\n",
    "    \n",
    "    # assign blocks to precincts\n",
    "    election_in_block = gpd.GeoDataFrame(election_in_block, crs=vest_crs)\n",
    "    df = gpd.GeoDataFrame(df, crs=df_crs)\n",
    "    block_to_pricinct_assginment = maup.assign(election_in_block.geometry, df.geometry)\n",
    "    df[col_name] = election_in_block[col_name].groupby(block_to_pricinct_assginment).sum()\n",
    "    df = df.groupby(level=0, axis=1).sum()\n",
    "    df = gpd.GeoDataFrame(df, crs = df_crs)\n",
    "    # check if population agrees\n",
    "    check_population(population, df)\n",
    "    \n",
    "    return df"
   ]
  },
  {
   "cell_type": "code",
   "execution_count": 14,
   "id": "ca76e78c-60c7-44f3-8f00-b5dc9e3db6ac",
   "metadata": {},
   "outputs": [],
   "source": [
    "def add_vest_base(vest, start_col, year, county = None, min_rook_length = None, snap_precision = 10):\n",
    "    vest = vest.to_crs(vest.estimate_utm_crs())\n",
    "    vest_crs = vest.crs\n",
    "    original_col = vest.columns[start_col:-1]\n",
    "    new_col = [rename(i, year) for i in original_col]\n",
    "    rename_dict = dict(zip(original_col, new_col))\n",
    "    vest = vest.rename(columns=rename_dict)\n",
    "    vest = vest.groupby(level=0, axis=1).sum()\n",
    "    vest = gpd.GeoDataFrame(vest, crs=vest_crs)\n",
    "\n",
    "    if county is not None:\n",
    "        county = county.to_crs(county.estimate_utm_crs())\n",
    "        vest = smart_repair(vest, nest_within_regions = county, min_rook_length = min_rook_length, snap_precision = snap_precision) # nest precincts within counties\n",
    "\n",
    "    else:\n",
    "        vest = smart_repair(vest, min_rook_length = min_rook_length, snap_precision = snap_precision) \n",
    "    \n",
    "    return vest"
   ]
  },
  {
   "cell_type": "code",
   "execution_count": 15,
   "id": "07385dbc-14bd-4d77-a89c-7f0231942978",
   "metadata": {},
   "outputs": [],
   "source": [
    "def check_small_boundary_lengths(vest_base):\n",
    "    import copy\n",
    "    vest_base = vest_base.to_crs(vest_base.estimate_utm_crs())\n",
    "\n",
    "    boundaries = copy.deepcopy(vest_base)\n",
    "    boundaries[\"geometry\"] = boundaries.geometry.boundary  # get boundaries\n",
    "    neighbors = gpd.sjoin(boundaries, vest_base, predicate=\"intersects\") # find boundaries that intersect\n",
    "    neighbors = neighbors[neighbors.index != neighbors.index_right] # remove boundaries of a region with itself\n",
    "\n",
    "    # compute shared border length using intersection\n",
    "    borders = list(neighbors.apply(\n",
    "        lambda row: row.geometry.intersection(vest_base.loc[row.index_right, \"geometry\"]).length, axis=1\n",
    "    ))\n",
    "\n",
    "    borders.sort()\n",
    "    \n",
    "    return borders"
   ]
  },
  {
   "cell_type": "markdown",
   "id": "ab6ce8f5-f237-4d6c-8425-cd8a0b080f65",
   "metadata": {},
   "source": [
    "## Read the census data"
   ]
  },
  {
   "cell_type": "code",
   "execution_count": 17,
   "id": "185d2b84-d37f-4f24-86c1-1bcd0b4347e2",
   "metadata": {},
   "outputs": [],
   "source": [
    "population1_df = gpd.read_file(population1_data)\n",
    "population2_df = gpd.read_file(population2_data)\n",
    "vap_df = gpd.read_file(vap_data)\n",
    "county_df = gpd.read_file(county_data)"
   ]
  },
  {
   "cell_type": "code",
   "execution_count": 18,
   "id": "57b3b9bb-9721-469d-8eee-0dd5eb0e6015",
   "metadata": {},
   "outputs": [],
   "source": [
    "population2_df = population2_df.drop(columns=['SUMLEV', 'LOGRECNO', 'GEOID', 'COUNTY', 'geometry'])\n",
    "vap_df = vap_df.drop(columns=['SUMLEV', 'LOGRECNO', 'GEOID', 'COUNTY', 'geometry'])"
   ]
  },
  {
   "cell_type": "code",
   "execution_count": 19,
   "id": "daa935f7-bc02-4856-adb0-9cc9cf31ffca",
   "metadata": {},
   "outputs": [],
   "source": [
    "population_df = pd.merge(population1_df, population2_df, on='GEOID20')\n",
    "population_df = pd.merge(population_df, vap_df, on='GEOID20')\n",
    "population_df = population_df.to_crs(population_df.estimate_utm_crs())"
   ]
  },
  {
   "cell_type": "code",
   "execution_count": 20,
   "id": "24490c22-d9cd-494b-b335-0fb1eaa3cbb4",
   "metadata": {},
   "outputs": [
    {
     "name": "stderr",
     "output_type": "stream",
     "text": [
      "100%|█████████████████████████████████| 132662/132662 [01:05<00:00, 2027.61it/s]\n"
     ]
    },
    {
     "data": {
      "text/plain": [
       "True"
      ]
     },
     "execution_count": 20,
     "metadata": {},
     "output_type": "execute_result"
    }
   ],
   "source": [
    "maup.doctor(population_df)"
   ]
  },
  {
   "cell_type": "code",
   "execution_count": 21,
   "id": "0845f50e-9920-404a-8284-c47df7b0f6ce",
   "metadata": {},
   "outputs": [],
   "source": [
    "rename_dict = {'P0020001': 'TOTPOP', 'P0020002': 'HISP', 'P0020005': 'NH_WHITE', 'P0020006': 'NH_BLACK', 'P0020007': 'NH_AMIN',\n",
    "               'P0020008': 'NH_ASIAN', 'P0020009': 'NH_NHPI', 'P0020010': 'NH_OTHER', 'P0020011': 'NH_2MORE',\n",
    "               'P0040001': 'VAP', 'P0040002': 'HVAP', 'P0040005': 'WVAP', 'P0040006': 'BVAP', 'P0040007': 'AMINVAP',\n",
    "               'P0040008': 'ASIANVAP', 'P0040009': 'NHPIVAP', 'P0040010': 'OTHERVAP', 'P0040011': '2MOREVAP'}"
   ]
  },
  {
   "cell_type": "code",
   "execution_count": 22,
   "id": "4d4f9723-ad23-46ff-bbd0-8d4ab628b69b",
   "metadata": {},
   "outputs": [],
   "source": [
    "population_df.rename(columns=rename_dict, inplace = True)"
   ]
  },
  {
   "cell_type": "code",
   "execution_count": 23,
   "id": "9550a841-5692-4d5f-a7f1-131d53eb9f12",
   "metadata": {},
   "outputs": [],
   "source": [
    "population_df['H_WHITE'] = population_df.apply(lambda t: t['P0010003'] - t['NH_WHITE'], 1)\n",
    "population_df['H_BLACK'] = population_df.apply(lambda t: t['P0010004'] - t['NH_BLACK'], 1)\n",
    "population_df['H_AMIN'] = population_df.apply(lambda t: t['P0010005'] - t['NH_AMIN'], 1)\n",
    "population_df['H_ASIAN'] = population_df.apply(lambda t: t['P0010006'] - t['NH_ASIAN'], 1)\n",
    "population_df['H_NHPI'] = population_df.apply(lambda t: t['P0010007'] - t['NH_NHPI'], 1)\n",
    "population_df['H_OTHER'] = population_df.apply(lambda t: t['P0010008'] - t['NH_OTHER'], 1)\n",
    "population_df['H_2MORE'] = population_df.apply(lambda t: t['P0010009'] - t['NH_2MORE'], 1)"
   ]
  },
  {
   "cell_type": "code",
   "execution_count": 24,
   "id": "29e8bd3c-a6ae-4afc-ad1e-7d8f38f7d1c5",
   "metadata": {},
   "outputs": [
    {
     "name": "stderr",
     "output_type": "stream",
     "text": [
      "100%|████████████████████████████████████████| 120/120 [00:00<00:00, 367.95it/s]\n"
     ]
    },
    {
     "data": {
      "text/plain": [
       "True"
      ]
     },
     "execution_count": 24,
     "metadata": {},
     "output_type": "execute_result"
    }
   ],
   "source": [
    "county_df = county_df.to_crs(county_df.estimate_utm_crs())\n",
    "maup.doctor(county_df)"
   ]
  },
  {
   "cell_type": "markdown",
   "id": "e1e89689-06e1-4937-9bee-b0442bfc33d5",
   "metadata": {},
   "source": [
    "# Read the base vest data\n",
    "Now using it as a \"base precinct\", but it could be vest 20 or vest 16 if vest 19 is not working"
   ]
  },
  {
   "cell_type": "markdown",
   "id": "bcfb3af1-db89-4463-98d8-3a0192067bb4",
   "metadata": {},
   "source": [
    "### Check if vest 19 can be used as base"
   ]
  },
  {
   "cell_type": "code",
   "execution_count": 27,
   "id": "397e9936-bfde-4b09-9dcb-207733dfb2dd",
   "metadata": {},
   "outputs": [],
   "source": [
    "vest19 = gpd.read_file(vest19_data)"
   ]
  },
  {
   "cell_type": "markdown",
   "id": "20718edd-b876-4d8d-8509-5eeee4b9b9be",
   "metadata": {},
   "source": [
    "### If it is true for maup doctor, we will use it as the base vest data.\n",
    "Check where the election column starts, this should be the same for all vest data in that state"
   ]
  },
  {
   "cell_type": "code",
   "execution_count": 29,
   "id": "2d744be1-7568-4b94-a383-17d219ac128b",
   "metadata": {},
   "outputs": [
    {
     "data": {
      "text/plain": [
       "Index(['STATEFP', 'COUNTYFP', 'VTDST', 'NAME', 'G19GOVRBEV', 'G19GOVDBES',\n",
       "       'G19GOVLHIC', 'G19SOSRADA', 'G19SOSDHEN', 'G19ATGRCAM', 'G19ATGDSTU',\n",
       "       'G19AUDRHAR', 'G19AUDDDON', 'G19AUDLHUG', 'G19TRERBAL', 'G19TREDBOW',\n",
       "       'G19AGRRQUA', 'G19AGRDCON', 'G19AGRLGIL', 'geometry'],\n",
       "      dtype='object')"
      ]
     },
     "execution_count": 29,
     "metadata": {},
     "output_type": "execute_result"
    }
   ],
   "source": [
    "vest19.columns"
   ]
  },
  {
   "cell_type": "markdown",
   "id": "65620cab-599f-4232-818e-e85846d02694",
   "metadata": {},
   "source": [
    "## Parameters that need to be checked"
   ]
  },
  {
   "cell_type": "code",
   "execution_count": 31,
   "id": "4200a0f8-29dd-42f9-96e4-ff27188ce32a",
   "metadata": {},
   "outputs": [],
   "source": [
    "start_col = 4\n",
    "vest_base_data = vest19\n",
    "year = '19'"
   ]
  },
  {
   "cell_type": "code",
   "execution_count": 32,
   "id": "728420ec-9df2-4771-ae4c-1832fe3fb12f",
   "metadata": {},
   "outputs": [
    {
     "name": "stderr",
     "output_type": "stream",
     "text": [
      "100%|████████████████████████████████████████| 120/120 [00:00<00:00, 383.47it/s]\n"
     ]
    },
    {
     "name": "stdout",
     "output_type": "stream",
     "text": [
      "Snapping all geometries to a grid with precision 10^( -5 ) to avoid GEOS errors.\n"
     ]
    },
    {
     "name": "stderr",
     "output_type": "stream",
     "text": [
      "100%|████████████████████████████████████████| 120/120 [00:00<00:00, 171.66it/s]\n",
      "100%|████████████████████████████████████████| 120/120 [00:00<00:00, 648.40it/s]\n"
     ]
    },
    {
     "name": "stdout",
     "output_type": "stream",
     "text": [
      "Identifying overlaps...\n"
     ]
    },
    {
     "name": "stderr",
     "output_type": "stream",
     "text": [
      "100%|█████████████████████████████████████| 5403/5403 [00:01<00:00, 2756.33it/s]\n"
     ]
    },
    {
     "name": "stdout",
     "output_type": "stream",
     "text": [
      "Resolving overlaps and filling gaps...\n"
     ]
    },
    {
     "name": "stderr",
     "output_type": "stream",
     "text": [
      "100%|████████████████████████████████████████| 120/120 [00:00<00:00, 167.87it/s]\n",
      "100%|████████████████████████████████████████| 120/120 [00:00<00:00, 650.34it/s]\n",
      "Gaps to simplify in region 0: 100%|███████████████| 1/1 [00:00<00:00, 71.49it/s]\n",
      "Gaps to fill: 0it [00:00, ?it/s]\n",
      "Gaps to simplify: 0it [00:00, ?it/s]\n",
      "Gaps to fill: 0it [00:00, ?it/s]\n",
      "Gaps to simplify: 0it [00:00, ?it/s]\n",
      "Gaps to fill: 0it [00:00, ?it/s]\n",
      "Gaps to simplify in region 3: 100%|███████████████| 1/1 [00:00<00:00, 90.41it/s]\n",
      "Gaps to fill: 0it [00:00, ?it/s]\n",
      "Gaps to simplify: 0it [00:00, ?it/s]\n",
      "Gaps to fill: 0it [00:00, ?it/s]\n",
      "Gaps to simplify in region 5: 100%|████████████| 47/47 [00:00<00:00, 113.10it/s]\n",
      "Gaps to fill in region 5: 100%|███████████████████| 4/4 [00:00<00:00, 61.24it/s]\n",
      "Gaps to simplify in region 6: 100%|█████████████| 24/24 [00:00<00:00, 72.42it/s]\n",
      "Gaps to fill: 0it [00:00, ?it/s]\n",
      "Gaps to simplify in region 7: 100%|████████████| 31/31 [00:00<00:00, 114.20it/s]\n",
      "Gaps to fill in region 7: 100%|███████████████████| 2/2 [00:00<00:00, 41.73it/s]\n",
      "Gaps to simplify in region 8: 100%|██████████████| 3/3 [00:00<00:00, 145.88it/s]\n",
      "Gaps to fill: 0it [00:00, ?it/s]\n",
      "Gaps to simplify in region 9: 100%|█████████████| 11/11 [00:00<00:00, 68.57it/s]\n",
      "Gaps to fill in region 9: 100%|███████████████████| 3/3 [00:00<00:00, 79.77it/s]\n",
      "Gaps to simplify in region 10: 100%|████████████| 12/12 [00:00<00:00, 86.60it/s]\n",
      "Gaps to fill in region 10: 100%|█████████████████| 5/5 [00:00<00:00, 109.45it/s]\n",
      "Gaps to simplify: 0it [00:00, ?it/s]\n",
      "Gaps to fill: 0it [00:00, ?it/s]\n",
      "Gaps to simplify in region 12: 100%|█████████████| 2/2 [00:00<00:00, 120.84it/s]\n",
      "Gaps to fill: 0it [00:00, ?it/s]\n",
      "Gaps to simplify: 0it [00:00, ?it/s]\n",
      "Gaps to fill: 0it [00:00, ?it/s]\n",
      "Gaps to simplify in region 14: 100%|██████████████| 1/1 [00:00<00:00, 74.58it/s]\n",
      "Gaps to fill: 0it [00:00, ?it/s]\n",
      "Gaps to simplify: 0it [00:00, ?it/s]\n",
      "Gaps to fill: 0it [00:00, ?it/s]\n",
      "Gaps to simplify in region 16: 100%|██████████████| 1/1 [00:00<00:00, 62.74it/s]\n",
      "Gaps to fill: 0it [00:00, ?it/s]\n",
      "Gaps to simplify: 0it [00:00, ?it/s]\n",
      "Gaps to fill: 0it [00:00, ?it/s]\n",
      "Gaps to simplify in region 18: 100%|██████████████| 1/1 [00:00<00:00, 70.25it/s]\n",
      "Gaps to fill: 0it [00:00, ?it/s]\n",
      "Gaps to simplify in region 19: 100%|██████████████| 1/1 [00:00<00:00, 88.79it/s]\n",
      "Gaps to fill: 0it [00:00, ?it/s]\n",
      "Gaps to simplify in region 20: 100%|██████████████| 1/1 [00:00<00:00, 85.98it/s]\n",
      "Gaps to fill: 0it [00:00, ?it/s]\n",
      "Gaps to simplify in region 21: 100%|█████████████| 2/2 [00:00<00:00, 162.27it/s]\n",
      "Gaps to fill: 0it [00:00, ?it/s]\n",
      "Gaps to simplify in region 22: 100%|████████████| 93/93 [00:01<00:00, 78.37it/s]\n",
      "Gaps to fill in region 22: 100%|██████████████████| 3/3 [00:00<00:00, 33.26it/s]\n",
      "Gaps to simplify in region 23: 100%|███████████| 50/50 [00:00<00:00, 126.44it/s]\n",
      "Gaps to fill in region 23: 100%|██████████████████| 1/1 [00:00<00:00, 66.41it/s]\n",
      "Gaps to simplify: 0it [00:00, ?it/s]\n",
      "Gaps to fill: 0it [00:00, ?it/s]\n",
      "Gaps to simplify in region 25: 100%|██████████████| 2/2 [00:00<00:00, 91.60it/s]\n",
      "Gaps to fill: 0it [00:00, ?it/s]\n",
      "Gaps to simplify in region 26: 100%|█████████████| 2/2 [00:00<00:00, 101.78it/s]\n",
      "Gaps to fill: 0it [00:00, ?it/s]\n",
      "Gaps to simplify in region 27: 100%|██████████████| 3/3 [00:00<00:00, 74.04it/s]\n",
      "Gaps to fill: 0it [00:00, ?it/s]\n",
      "Gaps to simplify in region 28: 100%|████████████| 12/12 [00:00<00:00, 76.22it/s]\n",
      "Gaps to fill in region 28: 100%|██████████████████| 5/5 [00:00<00:00, 98.18it/s]\n",
      "Gaps to simplify in region 29: 100%|████████████| 45/45 [00:01<00:00, 32.93it/s]\n",
      "Gaps to fill in region 29: 100%|████████████████| 21/21 [00:00<00:00, 77.43it/s]\n",
      "Gaps to simplify: 0it [00:00, ?it/s]\n",
      "Gaps to fill: 0it [00:00, ?it/s]\n",
      "Gaps to simplify in region 31: 100%|█████████████| 1/1 [00:00<00:00, 103.90it/s]\n",
      "Gaps to fill: 0it [00:00, ?it/s]\n",
      "Gaps to simplify in region 32: 100%|█████████████| 1/1 [00:00<00:00, 107.91it/s]\n",
      "Gaps to fill: 0it [00:00, ?it/s]\n",
      "Gaps to simplify in region 33: 100%|██████████████| 3/3 [00:00<00:00, 79.99it/s]\n",
      "Gaps to fill: 0it [00:00, ?it/s]\n",
      "Gaps to simplify in region 34: 100%|██████████████| 1/1 [00:00<00:00, 73.44it/s]\n",
      "Gaps to fill: 0it [00:00, ?it/s]\n",
      "Gaps to simplify: 0it [00:00, ?it/s]\n",
      "Gaps to fill: 0it [00:00, ?it/s]\n",
      "Gaps to simplify: 0it [00:00, ?it/s]\n",
      "Gaps to fill: 0it [00:00, ?it/s]\n",
      "Gaps to simplify: 0it [00:00, ?it/s]\n",
      "Gaps to fill: 0it [00:00, ?it/s]\n",
      "Gaps to simplify: 0it [00:00, ?it/s]\n",
      "Gaps to fill: 0it [00:00, ?it/s]\n",
      "Gaps to simplify: 0it [00:00, ?it/s]\n",
      "Gaps to fill: 0it [00:00, ?it/s]\n",
      "Gaps to simplify in region 40: 100%|██████████████| 1/1 [00:00<00:00, 71.90it/s]\n",
      "Gaps to fill: 0it [00:00, ?it/s]\n",
      "Gaps to simplify: 0it [00:00, ?it/s]\n",
      "Gaps to fill: 0it [00:00, ?it/s]\n",
      "Gaps to simplify in region 42: 100%|██████████████| 1/1 [00:00<00:00, 84.69it/s]\n",
      "Gaps to fill: 0it [00:00, ?it/s]\n",
      "Gaps to simplify in region 43: 100%|████████████| 56/56 [00:01<00:00, 48.14it/s]\n",
      "Gaps to fill in region 43: 100%|████████████████| 16/16 [00:00<00:00, 37.33it/s]\n",
      "Gaps to simplify in region 44: 100%|████████████| 31/31 [00:00<00:00, 88.84it/s]\n",
      "Gaps to fill: 0it [00:00, ?it/s]\n",
      "Gaps to simplify: 0it [00:00, ?it/s]\n",
      "Gaps to fill: 0it [00:00, ?it/s]\n",
      "Gaps to simplify: 0it [00:00, ?it/s]\n",
      "Gaps to fill: 0it [00:00, ?it/s]\n",
      "Gaps to simplify in region 47: 100%|█████████████| 4/4 [00:00<00:00, 121.24it/s]\n",
      "Gaps to fill: 0it [00:00, ?it/s]\n",
      "Gaps to simplify in region 48: 100%|████████████| 12/12 [00:00<00:00, 72.59it/s]\n",
      "Gaps to fill in region 48: 100%|██████████████████| 1/1 [00:00<00:00, 31.63it/s]\n",
      "Gaps to simplify: 0it [00:00, ?it/s]\n",
      "Gaps to fill: 0it [00:00, ?it/s]\n",
      "Gaps to simplify: 0it [00:00, ?it/s]\n",
      "Gaps to fill: 0it [00:00, ?it/s]\n",
      "Gaps to simplify: 0it [00:00, ?it/s]\n",
      "Gaps to fill: 0it [00:00, ?it/s]\n",
      "Gaps to simplify: 0it [00:00, ?it/s]\n",
      "Gaps to fill: 0it [00:00, ?it/s]\n",
      "Gaps to simplify: 0it [00:00, ?it/s]\n",
      "Gaps to fill: 0it [00:00, ?it/s]\n",
      "Gaps to simplify: 0it [00:00, ?it/s]\n",
      "Gaps to fill: 0it [00:00, ?it/s]\n",
      "Gaps to simplify in region 55: 100%|████████████| 47/47 [00:00<00:00, 75.74it/s]\n",
      "Gaps to fill in region 55: 100%|██████████████████| 6/6 [00:00<00:00, 60.60it/s]\n",
      "Gaps to simplify in region 56: 100%|████████████| 29/29 [00:00<00:00, 79.30it/s]\n",
      "Gaps to fill in region 56: 100%|█████████████████| 8/8 [00:00<00:00, 105.53it/s]\n",
      "Gaps to simplify in region 57: 100%|████████████| 31/31 [00:00<00:00, 72.35it/s]\n",
      "Gaps to fill in region 57: 100%|██████████████████| 9/9 [00:00<00:00, 69.89it/s]\n",
      "Gaps to simplify in region 58: 100%|████████████| 47/47 [00:00<00:00, 72.68it/s]\n",
      "Gaps to fill in region 58: 100%|██████████████████| 2/2 [00:00<00:00, 28.32it/s]\n",
      "Gaps to simplify in region 59: 100%|███████████| 45/45 [00:00<00:00, 141.13it/s]\n",
      "Gaps to fill: 0it [00:00, ?it/s]\n",
      "Gaps to simplify: 0it [00:00, ?it/s]\n",
      "Gaps to fill: 0it [00:00, ?it/s]\n",
      "Gaps to simplify: 0it [00:00, ?it/s]\n",
      "Gaps to fill: 0it [00:00, ?it/s]\n",
      "Gaps to simplify: 0it [00:00, ?it/s]\n",
      "Gaps to fill: 0it [00:00, ?it/s]\n",
      "Gaps to simplify in region 63: 100%|█████████████| 4/4 [00:00<00:00, 131.69it/s]\n",
      "Gaps to fill: 0it [00:00, ?it/s]\n",
      "Gaps to simplify: 0it [00:00, ?it/s]\n",
      "Gaps to fill: 0it [00:00, ?it/s]\n",
      "Gaps to simplify: 0it [00:00, ?it/s]\n",
      "Gaps to fill: 0it [00:00, ?it/s]\n",
      "Gaps to simplify: 0it [00:00, ?it/s]\n",
      "Gaps to fill: 0it [00:00, ?it/s]\n",
      "Gaps to simplify in region 67: 100%|█████████████| 2/2 [00:00<00:00, 125.73it/s]\n",
      "Gaps to fill: 0it [00:00, ?it/s]\n",
      "Gaps to simplify: 0it [00:00, ?it/s]\n",
      "Gaps to fill: 0it [00:00, ?it/s]\n",
      "Gaps to simplify: 0it [00:00, ?it/s]\n",
      "Gaps to fill: 0it [00:00, ?it/s]\n",
      "Gaps to simplify in region 70: 100%|███████████| 21/21 [00:00<00:00, 119.22it/s]\n",
      "Gaps to fill: 0it [00:00, ?it/s]\n",
      "Gaps to simplify in region 71: 100%|██████████████| 1/1 [00:00<00:00, 80.11it/s]\n",
      "Gaps to fill: 0it [00:00, ?it/s]\n",
      "Gaps to simplify: 0it [00:00, ?it/s]\n",
      "Gaps to fill: 0it [00:00, ?it/s]\n",
      "Gaps to simplify: 0it [00:00, ?it/s]\n",
      "Gaps to fill: 0it [00:00, ?it/s]\n",
      "Gaps to simplify: 0it [00:00, ?it/s]\n",
      "Gaps to fill: 0it [00:00, ?it/s]\n",
      "Gaps to simplify in region 75: 100%|████████████| 52/52 [00:00<00:00, 93.74it/s]\n",
      "Gaps to fill in region 75: 100%|██████████████████| 5/5 [00:00<00:00, 86.05it/s]\n",
      "Gaps to simplify: 0it [00:00, ?it/s]\n",
      "Gaps to fill: 0it [00:00, ?it/s]\n",
      "Gaps to simplify in region 77: 100%|██████████████| 1/1 [00:00<00:00, 93.77it/s]\n",
      "Gaps to fill: 0it [00:00, ?it/s]\n",
      "Gaps to simplify: 0it [00:00, ?it/s]\n",
      "Gaps to fill: 0it [00:00, ?it/s]\n",
      "Gaps to simplify: 0it [00:00, ?it/s]\n",
      "Gaps to fill: 0it [00:00, ?it/s]\n",
      "Gaps to simplify in region 80: 100%|█████████████| 1/1 [00:00<00:00, 156.82it/s]\n",
      "Gaps to fill: 0it [00:00, ?it/s]\n",
      "Gaps to simplify: 0it [00:00, ?it/s]\n",
      "Gaps to fill: 0it [00:00, ?it/s]\n",
      "Gaps to simplify in region 82: 100%|████████████| 25/25 [00:00<00:00, 95.99it/s]\n",
      "Gaps to fill: 0it [00:00, ?it/s]\n",
      "Gaps to simplify in region 83: 100%|██████████████| 3/3 [00:00<00:00, 45.18it/s]\n",
      "Gaps to fill: 0it [00:00, ?it/s]\n",
      "Gaps to simplify: 0it [00:00, ?it/s]\n",
      "Gaps to fill: 0it [00:00, ?it/s]\n",
      "Gaps to simplify in region 85: 100%|████████████| 26/26 [00:00<00:00, 99.82it/s]\n",
      "Gaps to fill: 0it [00:00, ?it/s]\n",
      "Gaps to simplify in region 86: 100%|█████████████| 1/1 [00:00<00:00, 119.50it/s]\n",
      "Gaps to fill: 0it [00:00, ?it/s]\n",
      "Gaps to simplify: 0it [00:00, ?it/s]\n",
      "Gaps to fill: 0it [00:00, ?it/s]\n",
      "Gaps to simplify in region 88: 100%|███████████| 23/23 [00:00<00:00, 104.53it/s]\n",
      "Gaps to fill: 0it [00:00, ?it/s]\n",
      "Gaps to simplify: 0it [00:00, ?it/s]\n",
      "Gaps to fill: 0it [00:00, ?it/s]\n",
      "Gaps to simplify: 0it [00:00, ?it/s]\n",
      "Gaps to fill: 0it [00:00, ?it/s]\n",
      "Gaps to simplify in region 91: 100%|██████████████| 3/3 [00:00<00:00, 59.29it/s]\n",
      "Gaps to fill: 0it [00:00, ?it/s]\n",
      "Gaps to simplify: 0it [00:00, ?it/s]\n",
      "Gaps to fill: 0it [00:00, ?it/s]\n",
      "Gaps to simplify: 0it [00:00, ?it/s]\n",
      "Gaps to fill: 0it [00:00, ?it/s]\n",
      "Gaps to simplify in region 94: 100%|██████████████| 1/1 [00:00<00:00, 86.75it/s]\n",
      "Gaps to fill: 0it [00:00, ?it/s]\n",
      "Gaps to simplify in region 95: 100%|██████████████| 1/1 [00:00<00:00, 69.94it/s]\n",
      "Gaps to fill: 0it [00:00, ?it/s]\n",
      "Gaps to simplify: 0it [00:00, ?it/s]\n",
      "Gaps to fill: 0it [00:00, ?it/s]\n",
      "Gaps to simplify: 0it [00:00, ?it/s]\n",
      "Gaps to fill: 0it [00:00, ?it/s]\n",
      "Gaps to simplify in region 98: 100%|██████████████| 1/1 [00:00<00:00, 73.30it/s]\n",
      "Gaps to fill: 0it [00:00, ?it/s]\n",
      "Gaps to simplify in region 99: 100%|█████████████| 1/1 [00:00<00:00, 106.79it/s]\n",
      "Gaps to fill: 0it [00:00, ?it/s]\n",
      "Gaps to simplify: 0it [00:00, ?it/s]\n",
      "Gaps to fill: 0it [00:00, ?it/s]\n",
      "Gaps to simplify: 0it [00:00, ?it/s]\n",
      "Gaps to fill: 0it [00:00, ?it/s]\n",
      "Gaps to simplify: 0it [00:00, ?it/s]\n",
      "Gaps to fill: 0it [00:00, ?it/s]\n",
      "Gaps to simplify in region 103: 100%|████████████| 2/2 [00:00<00:00, 114.44it/s]\n",
      "Gaps to fill: 0it [00:00, ?it/s]\n",
      "Gaps to simplify: 0it [00:00, ?it/s]\n",
      "Gaps to fill: 0it [00:00, ?it/s]\n",
      "Gaps to simplify in region 105: 100%|████████████| 2/2 [00:00<00:00, 127.88it/s]\n",
      "Gaps to fill: 0it [00:00, ?it/s]\n",
      "Gaps to simplify in region 106: 100%|███████████| 27/27 [00:02<00:00, 11.31it/s]\n",
      "Gaps to fill in region 106: 100%|███████████████| 21/21 [00:00<00:00, 65.09it/s]\n",
      "Gaps to simplify in region 107: 100%|████████████| 2/2 [00:00<00:00, 134.03it/s]\n",
      "Gaps to fill: 0it [00:00, ?it/s]\n",
      "Gaps to simplify in region 108: 100%|████████████| 1/1 [00:00<00:00, 101.51it/s]\n",
      "Gaps to fill: 0it [00:00, ?it/s]\n",
      "Gaps to simplify in region 109: 100%|█████████████| 2/2 [00:00<00:00, 92.83it/s]\n",
      "Gaps to fill: 0it [00:00, ?it/s]\n",
      "Gaps to simplify: 0it [00:00, ?it/s]\n",
      "Gaps to fill: 0it [00:00, ?it/s]\n",
      "Gaps to simplify: 0it [00:00, ?it/s]\n",
      "Gaps to fill: 0it [00:00, ?it/s]\n",
      "Gaps to simplify: 0it [00:00, ?it/s]\n",
      "Gaps to fill: 0it [00:00, ?it/s]\n",
      "Gaps to simplify: 0it [00:00, ?it/s]\n",
      "Gaps to fill: 0it [00:00, ?it/s]\n",
      "Gaps to simplify: 0it [00:00, ?it/s]\n",
      "Gaps to fill: 0it [00:00, ?it/s]\n",
      "Gaps to simplify: 0it [00:00, ?it/s]\n",
      "Gaps to fill: 0it [00:00, ?it/s]\n",
      "Gaps to simplify in region 116: 100%|█████████████| 1/1 [00:00<00:00, 67.98it/s]\n",
      "Gaps to fill: 0it [00:00, ?it/s]\n",
      "Gaps to simplify: 0it [00:00, ?it/s]\n",
      "Gaps to fill: 0it [00:00, ?it/s]\n",
      "Gaps to simplify in region 118: 100%|█████████████| 1/1 [00:00<00:00, 72.97it/s]\n",
      "Gaps to fill: 0it [00:00, ?it/s]\n",
      "Gaps to simplify: 0it [00:00, ?it/s]\n",
      "Gaps to fill: 0it [00:00, ?it/s]\n"
     ]
    }
   ],
   "source": [
    "vest_base = add_vest_base(vest_base_data, start_col, year, county = county_df)"
   ]
  },
  {
   "cell_type": "code",
   "execution_count": 33,
   "id": "f320972c-82d9-4c08-ac09-0eeb8c3beec6",
   "metadata": {},
   "outputs": [
    {
     "name": "stdout",
     "output_type": "stream",
     "text": [
      "[0.0, 0.0, 0.0, 0.0, 0.0, 0.0, 0.0, 0.0, 0.0, 0.0, 0.0, 0.0, 0.0, 0.0, 0.0, 0.0, 0.0, 0.0, 0.0, 0.0, 0.0, 0.0, 0.0, 0.0, 0.0, 0.0, 0.0, 0.0, 0.0, 0.0, 0.0, 0.0, 0.0, 0.0, 0.0, 0.0, 0.0, 0.0, 0.0, 0.0, 0.0, 0.0, 0.0, 0.0, 0.0, 0.0, 0.0, 0.0, 0.0, 0.0, 0.0, 0.0, 0.0, 0.0, 0.0, 0.0, 0.0, 0.0, 0.0, 0.0, 0.0, 0.0, 0.0, 0.0, 0.0, 0.0, 0.0, 0.0, 0.0, 0.0, 0.0, 0.0, 0.0, 0.0, 0.0, 0.0, 0.0, 0.0, 0.0, 0.0, 0.0, 0.0, 1.4029385758473742, 1.4029385758473742, 1.7952689072644377, 1.7952689072644377, 2.0356727749549, 2.0356727749549, 4.2170653307779, 4.2170653307779, 4.659668991835472, 4.659668991835472, 4.7391738290793475, 4.7391738290793475, 5.283605209048977, 5.283605209048977, 6.301522271316026, 6.301522271316026, 6.370844680500782, 6.370844680500782, 6.5437944213516, 6.5437944213516, 6.821220809389719, 6.821220809389719, 7.0043494389413254, 7.0043494389413254, 7.098276026562454, 7.098276026562454, 7.631786142349688, 7.631786142349688, 8.323240296440018, 8.323240296440018, 8.372641585969495, 8.372641585969495, 8.97755033834898, 8.97755033834898, 9.127633362205653, 9.127633362205653, 9.19102114086185, 9.19102114086185, 9.615598219018203, 9.615598219018203, 9.792932219220177, 9.792932219220177, 9.835332168663513, 9.835332168663513, 10.285964890447469, 10.285964890447469, 10.682011860053832, 10.682011860053832, 10.757818677235695, 10.757818677235695, 10.934085551863499, 10.934085551863499, 11.540207836714506, 11.540207836714506, 11.772131962027753, 11.772131962027753, 12.084399130078193, 12.084399130078193, 12.245496000117882, 12.245496000117882, 12.78615302609096, 12.78615302609096, 13.513615176318465, 13.513615176318465, 13.520636891559288, 13.520636891559288, 13.71529840603686, 13.71529840603686, 13.731414184585105, 13.731414184585105, 14.187626465015459, 14.187626465015459, 14.2901881357228, 14.2901881357228, 15.00565330451551, 15.00565330451551, 15.041991497103048, 15.041991497103048, 15.124646182776589, 15.124646182776589, 15.83229724647719, 15.83229724647719, 16.078911525940352, 16.078911525940352, 16.38983874880432, 16.38983874880432, 17.545905350709386, 17.545905350709386, 17.687610942484433, 17.687610942484433, 18.11918710969519, 18.11918710969519, 18.175678694201864, 18.175678694201864, 18.36752482883477, 18.36752482883477, 18.554370981333307, 18.554370981333307, 18.58226946826796, 18.58226946826796, 18.785963320595716, 18.785963320595716, 19.21327503492232, 19.21327503492232, 19.77325772217446, 19.77325772217446, 19.972238600695754, 19.972238600695754, 20.54849124154429, 20.54849124154429, 20.604279837321467, 20.604279837321467, 21.262484308816116, 21.262484308816116, 21.300008140101166, 21.300008140101166, 21.469096198995054, 21.469096198995054, 21.811035258338887, 21.811035258338887, 22.282600147266315, 22.282600147266315, 23.03977554919114, 23.03977554919114, 23.320717768518392, 23.320717768518392, 23.646377715768025, 23.646377715768025, 24.444438300182732, 24.444438300182732, 24.644629292199905, 24.644629292199905, 24.65881526920615, 24.65881526920615, 25.18855083291915, 25.18855083291915, 25.21321717535693, 25.21321717535693, 25.24780027547346, 25.24780027547346, 25.33546750819094, 25.33546750819094, 25.61778549998003, 25.61778549998003, 26.958623458962983, 26.958623458962983, 27.04594083667748, 27.04594083667748, 27.109569361627845, 27.109569361627845, 27.228881601464728, 27.228881601464728, 29.578684175838767, 29.578684175838767, 29.813438639651725, 29.813438639651725, 30.24234047342629, 30.24234047342629, 30.54492187333352, 30.54492187333352, 30.779987666044157, 30.779987666044157, 30.79604799361672, 30.79604799361672, 31.339774630814567, 31.339774630814567, 31.939133540944653, 31.939133540944653, 32.99737527056978, 32.99737527056978, 33.347074078743944, 33.347074078743944, 33.72850643727471, 33.72850643727471, 33.98516151147565, 33.98516151147565, 34.069847253088575, 34.069847253088575, 34.133422531586376, 34.133422531586376, 34.14371234488352, 34.14371234488352, 34.858960104167714, 34.858960104167714, 34.97666742865243, 34.97666742865243, 35.22400940998659, 35.22400940998659, 35.671985209840265, 35.671985209840265, 36.06420982888649, 36.06420982888649, 36.15808060361721, 36.15808060361721, 36.70424462361439, 36.70424462361439, 36.99367186983862, 36.99367186983862, 37.012722972879544, 37.012722972879544, 37.11363618985775, 37.11363618985775, 37.12389984569601, 37.12389984569601, 37.149225716046644, 37.149225716046644, 37.16807643421338, 37.16807643421338, 37.314842559795885, 37.31484255979589, 38.36095177378924, 38.36095177378924, 38.6423194598009, 38.6423194598009, 39.102048350353826, 39.102048350353826, 39.2703208995797, 39.2703208995797, 39.512160250307005, 39.512160250307005, 39.51788231542906, 39.51788231542906, 39.72524020303119, 39.72524020303119, 39.863028486185854, 39.863028486185854, 40.36829649469915, 40.36829649469915, 40.621952519978905, 40.621952519978905, 41.10376160556021, 41.103761605560216, 41.49178856831597, 41.49178856831597, 41.982296431529136, 41.982296431529136, 42.68817932253022, 42.68817932253022, 42.799982476899366, 42.799982476899366, 43.247754108648664, 43.247754108648664, 43.747082230709296, 43.7470822307093, 44.02874827233569, 44.0287482723357, 44.81068025359183, 44.81068025359183, 44.82790540143054, 44.82790540143054, 45.182288695761464, 45.182288695761464, 45.35453549437256, 45.35453549437256, 45.602078590469844, 45.602078590469844, 45.79527543115016, 45.79527543115016, 46.35542670782392, 46.35542670782392, 46.64124587306709, 46.64124587306709, 46.75451418365824, 46.75451418365824, 47.69677900854121, 47.69677900854121, 47.74726651164674, 47.74726651164674, 47.938190957790674, 47.93819095779068, 48.2212351977589, 48.2212351977589, 48.27428398648797, 48.27428398648797, 49.08254513648438, 49.08254513648438, 49.43626301287462, 49.43626301287462, 49.56812114276489, 49.56812114276489, 49.78630182318632, 49.78630182318632, 49.82034408711577, 49.82034408711577, 50.21942634593474, 50.21942634593474, 50.4027823258001, 50.4027823258001, 50.703023463487675, 50.703023463487675, 51.11403135335578, 51.11403135335578, 51.353401657265685, 51.353401657265685, 51.45644275922811, 51.45644275922812, 52.113335543363725, 52.113335543363725, 52.31163435041791, 52.31163435041791, 53.124538946397294, 53.124538946397294, 53.34179822553606, 53.34179822553606, 53.52561529136762, 53.52561529136762, 53.70166952666267, 53.70166952666267, 54.90206696649243, 54.90206696649243, 55.42918157358327, 55.42918157358327, 55.503156128100244, 55.50315612810025, 55.640248216699014, 55.64024821669902, 55.727983855884155, 55.727983855884155, 56.68605225932272, 56.68605225932272, 56.78286142273733, 56.78286142273733, 56.898752842609, 56.898752842609, 57.02447460943941, 57.02447460943941, 57.86120749593519, 57.8612074959352, 58.33593128579646, 58.33593128579646, 58.35385016771076, 58.35385016771076, 58.883091694938244, 58.883091694938244, 59.52112546713613, 59.52112546713614, 59.72585721010222, 59.72585721010222, 59.72965539353486, 59.72965539353486, 61.24528448644937, 61.24528448644938, 61.28970333886135, 61.28970333886135, 61.325149695635616, 61.325149695635616, 61.785760037956344, 61.785760037956344, 61.95044260083519, 61.950442600835196, 62.401654474717006, 62.401654474717006, 63.18127264645518, 63.18127264645518, 63.67114548086161, 63.67114548086161, 63.73558995763809, 63.7355899576381, 63.95201618012894, 63.95201618012895, 64.5014394146677, 64.5014394146677, 64.56456194231038, 64.56456194231038, 64.62756489427096, 64.62756489427096, 64.74681188337551, 64.74681188337551, 65.37568078282567, 65.37568078282567, 65.7293961312598, 65.7293961312598, 66.13791048005845, 66.13791048005845, 66.18002169588159, 66.18002169588159, 66.9230880947685, 66.9230880947685, 66.96843427882379, 66.96843427882379, 67.08890663611803, 67.08890663611803, 67.10173318423205, 67.10173318423205, 67.37471671626217, 67.37471671626217, 67.43691365247187, 67.43691365247189, 68.12938721410421, 68.12938721410423, 68.661939267846, 68.661939267846, 69.20155314596633, 69.20155314596633, 69.34004249798986, 69.34004249798986, 69.57605811289315, 69.57605811289315, 69.85069419666365, 69.85069419666367, 70.7405603397988, 70.7405603397988, 71.07555081609009, 71.07555081609009, 71.18989966295511, 71.18989966295511, 71.8233943860022, 71.8233943860022, 71.87571910747292, 71.87571910747292, 72.17702541301958, 72.17702541301958, 72.73800843609504, 72.73800843609504, 73.28685975853536, 73.28685975853536, 73.51339228100494, 73.51339228100494, 74.31683549263012, 74.31683549263012, 74.41454780316266, 74.41454780316266, 74.51058905274914, 74.51058905274914, 74.96612679736145, 74.96612679736145, 75.10058558130126, 75.10058558130126, 75.24189768786191, 75.24189768786192, 76.28719684852823, 76.28719684852823, 76.82036173832346, 76.82036173832346, 76.82811065057474, 76.82811065057476, 77.07141364881434, 77.07141364881434, 77.10571098670448, 77.10571098670448, 77.24320812166383, 77.24320812166383, 77.25859427988964, 77.25859427988964, 77.58696905916464, 77.58696905916466, 77.69130997154241, 77.69130997154241, 77.82703102605969, 77.82703102605969, 77.92355230004864, 77.92355230004864, 78.25732293879234, 78.25732293879234, 78.32822126801334, 78.32822126801335, 78.60720863893748, 78.60720863893748, 79.27669186841739, 79.27669186841739, 79.30445549081868, 79.3044554908187, 80.22267910531598, 80.22267910531599, 81.46881555859822, 81.46881555859824, 81.48195335969622, 81.48195335969622, 81.7996317364894, 81.7996317364894, 81.99277525921042, 81.99277525921042, 82.39643894991154, 82.39643894991154, 83.1482884737172, 83.1482884737172, 83.72095908766556, 83.72095908766556, 84.20253231355329, 84.2025323135533, 84.30904834643204, 84.30904834643204, 84.8406875217006, 84.8406875217006, 85.48932899802061, 85.48932899802061, 86.10665967037372, 86.10665967037372, 86.45957993369674, 86.45957993369674, 86.65087628458322, 86.65087628458322, 86.78649732412157, 86.78649732412158, 86.83117482880616, 86.83117482880616, 87.49553066168102, 87.49553066168102, 87.67627373625609, 87.67627373625609, 88.34201286839208, 88.34201286839208, 88.46097990344876, 88.46097990344876, 88.56961347509721, 88.56961347509721, 89.00769909144924, 89.00769909144924, 89.6430977867631, 89.6430977867631, 90.00929455675023, 90.00929455675023, 91.02103434550571, 91.02103434550573, 93.78093410016307, 93.78093410016308, 94.09997432300051, 94.09997432300054, 94.62257491890064, 94.62257491890064, 95.80507338002613, 95.80507338002613, 95.8375224917526, 95.8375224917526, 96.06671788812564, 96.06671788812564, 96.16886809886498, 96.16886809886499, 97.04483489597581, 97.04483489597584, 97.07676013525231, 97.07676013525231, 97.3976909466138, 97.39769094661384, 97.51612504714589, 97.51612504714589, 97.7747900054773, 97.7747900054773, 97.85956419004368, 97.85956419004368, 99.12907452123119, 99.12907452123119, 99.86448124984001, 99.86448124984001, 100.40433591836742, 100.40433591836744, 101.29635540062982, 101.29635540062984, 101.58613382028379, 101.58613382028379, 101.60480357194905, 101.60480357194905, 102.83939028877263, 102.83939028877263, 103.10624907250764, 103.10624907250765, 103.535239843496, 103.535239843496, 104.23523062490945, 104.23523062490945, 105.5486571038307, 105.5486571038307, 106.3609075122656, 106.36090751226561, 106.85110723736463, 106.85110723736463, 106.86784047223662, 106.86784047223662, 107.53254845695767, 107.53254845695767, 107.6764301480753, 107.67643014807531, 107.88378493103184, 107.88378493103187, 108.22112066774677, 108.22112066774679, 108.80782528789017, 108.80782528789017, 108.93994177621701, 108.93994177621704, 109.19383450330486, 109.19383450330486, 109.62670596806667, 109.62670596806669, 109.7588837345118, 109.7588837345118, 110.17790850871637, 110.17790850871637, 110.23033381836211, 110.23033381836214, 110.24493229658187, 110.24493229658187, 110.52124504216695, 110.52124504216695, 110.8831346167495, 110.8831346167495, 110.91554020763016, 110.91554020763016, 112.65021837473286, 112.65021837473289, 112.66028868834601, 112.66028868834601, 114.16885633839772, 114.16885633839772, 114.4038820427696, 114.4038820427696, 114.8276346044763, 114.8276346044763, 114.96996862835879, 114.96996862835879, 115.07295240521512, 115.07295240521512, 115.1375256871417, 115.1375256871417, 115.24047287719404, 115.24047287719407, 115.24904152793205, 115.24904152793208, 115.81840620988058, 115.81840620988058, 116.10419691978642, 116.10419691978642, 116.39803942873456, 116.39803942873456, 116.51803157506636, 116.51803157506636, 117.84628350717475, 117.84628350717475, 118.30889867247743, 118.30889867247744, 118.8158557531302, 118.8158557531302, 119.52581275885913, 119.52581275885913, 119.88993636980294, 119.88993636980294, 119.9868434086196, 119.98684340861963, 120.10382032407145, 120.10382032407148, 120.75687912708769, 120.7568791270877, 121.57378357544853, 121.57378357544853, 122.66440145968193, 122.66440145968194, 122.80596651674261, 122.80596651674261, 123.1993919206217, 123.19939192062171, 124.02169305877587, 124.02169305877587, 124.36990235131617, 124.36990235131617, 124.55035842381972, 124.55035842381972, 124.65399467208286, 124.65399467208286, 126.17977963510123, 126.17977963510123, 126.35954540237667, 126.35954540237667, 126.38321990469012, 126.38321990469014, 127.1827716919467, 127.1827716919467, 128.93113679521406, 128.93113679521406, 128.95817139485294, 128.95817139485294, 129.01743591158916, 129.01743591158916, 129.94766124283433, 129.94766124283433, 130.07653779842659, 130.07653779842659, 130.38757030014483, 130.38757030014486, 130.49994383351822, 130.49994383351822, 130.60879975452872, 130.60879975452872, 130.72848261609653, 130.72848261609653, 130.82391161848932, 130.82391161848932, 130.84388086660218, 130.84388086660218, 130.89566657217776, 130.8956665721778, 131.51056800586863, 131.51056800586866, 131.82239077100218, 131.82239077100218, 131.84930577729077, 131.84930577729077, 131.85341386665704, 131.85341386665704, 131.88162942806912, 131.88162942806912, 132.74029289095446, 132.74029289095446, 132.78852655573098, 132.788526555731, 132.9410471996565, 132.9410471996565, 133.3280210241827, 133.3280210241827, 133.65738992317594, 133.65738992317594, 133.8293583306476, 133.8293583306476, 134.54894644549586, 134.54894644549586, 134.62557820551345, 134.62557820551345, 134.7472273566984, 134.7472273566984]\n"
     ]
    }
   ],
   "source": [
    "borders = check_small_boundary_lengths(vest_base)\n",
    "print(borders[1200:2000])"
   ]
  },
  {
   "cell_type": "code",
   "execution_count": 34,
   "id": "77ce2beb-4322-4e52-8256-0b572a974b91",
   "metadata": {},
   "outputs": [
    {
     "name": "stdout",
     "output_type": "stream",
     "text": [
      "Snapping all geometries to a grid with precision 10^( -5 ) to avoid GEOS errors.\n",
      "Identifying overlaps...\n"
     ]
    },
    {
     "name": "stderr",
     "output_type": "stream",
     "text": [
      "100%|█████████████████████████████████████| 3694/3694 [00:00<00:00, 4214.46it/s]\n"
     ]
    },
    {
     "name": "stdout",
     "output_type": "stream",
     "text": [
      "Resolving overlaps...\n",
      "Filling gaps...\n"
     ]
    },
    {
     "name": "stderr",
     "output_type": "stream",
     "text": [
      "Gaps to simplify: 0it [00:00, ?it/s]\n",
      "Gaps to fill: 0it [00:00, ?it/s]\n"
     ]
    },
    {
     "name": "stdout",
     "output_type": "stream",
     "text": [
      "Converting small rook adjacencies to queen...\n"
     ]
    },
    {
     "name": "stderr",
     "output_type": "stream",
     "text": [
      "100%|█████████████████████████████████████| 3669/3669 [00:03<00:00, 1049.71it/s]\n",
      "100%|███████████████████████████████████████████| 5/5 [00:00<00:00, 3297.93it/s]\n",
      "100%|███████████████████████████████████████████| 4/4 [00:00<00:00, 2840.71it/s]\n",
      "100%|███████████████████████████████████████████| 6/6 [00:00<00:00, 3154.40it/s]\n",
      "100%|███████████████████████████████████████████| 4/4 [00:00<00:00, 2990.06it/s]\n",
      "100%|███████████████████████████████████████████| 4/4 [00:00<00:00, 2797.60it/s]\n",
      "100%|███████████████████████████████████████████| 4/4 [00:00<00:00, 2661.36it/s]\n",
      "100%|███████████████████████████████████████████| 6/6 [00:00<00:00, 3119.99it/s]\n",
      "100%|███████████████████████████████████████████| 5/5 [00:00<00:00, 3203.23it/s]\n",
      "100%|███████████████████████████████████████████| 4/4 [00:00<00:00, 2626.78it/s]\n",
      "100%|███████████████████████████████████████████| 4/4 [00:00<00:00, 2565.32it/s]\n",
      "100%|███████████████████████████████████████████| 4/4 [00:00<00:00, 2664.74it/s]\n",
      "100%|███████████████████████████████████████████| 4/4 [00:00<00:00, 2539.69it/s]\n",
      "100%|███████████████████████████████████████████| 3/3 [00:00<00:00, 2510.06it/s]\n",
      "100%|███████████████████████████████████████████| 4/4 [00:00<00:00, 3149.47it/s]\n",
      "100%|███████████████████████████████████████████| 4/4 [00:00<00:00, 2638.76it/s]\n",
      "100%|███████████████████████████████████████████| 5/5 [00:00<00:00, 3280.90it/s]\n",
      "100%|███████████████████████████████████████████| 4/4 [00:00<00:00, 3060.98it/s]\n",
      "100%|███████████████████████████████████████████| 4/4 [00:00<00:00, 2820.65it/s]\n",
      "100%|███████████████████████████████████████████| 5/5 [00:00<00:00, 2967.11it/s]\n",
      "100%|███████████████████████████████████████████| 4/4 [00:00<00:00, 3149.47it/s]\n",
      "100%|███████████████████████████████████████████| 4/4 [00:00<00:00, 3427.42it/s]\n",
      "100%|███████████████████████████████████████████| 4/4 [00:00<00:00, 2917.27it/s]\n",
      "100%|███████████████████████████████████████████| 4/4 [00:00<00:00, 2766.24it/s]\n",
      "100%|███████████████████████████████████████████| 4/4 [00:00<00:00, 3064.89it/s]\n",
      "100%|███████████████████████████████████████████| 5/5 [00:00<00:00, 3211.07it/s]\n",
      "100%|███████████████████████████████████████████| 4/4 [00:00<00:00, 2824.45it/s]\n",
      "100%|███████████████████████████████████████████| 4/4 [00:00<00:00, 2969.94it/s]\n",
      "100%|███████████████████████████████████████████| 5/5 [00:00<00:00, 3033.64it/s]\n",
      "100%|███████████████████████████████████████████| 4/4 [00:00<00:00, 2989.53it/s]\n",
      "100%|███████████████████████████████████████████| 4/4 [00:00<00:00, 3161.93it/s]\n",
      "100%|███████████████████████████████████████████| 4/4 [00:00<00:00, 2793.41it/s]\n",
      "100%|███████████████████████████████████████████| 4/4 [00:00<00:00, 2761.68it/s]\n",
      "100%|███████████████████████████████████████████| 4/4 [00:00<00:00, 3122.50it/s]\n",
      "100%|███████████████████████████████████████████| 6/6 [00:00<00:00, 2989.53it/s]\n",
      "100%|███████████████████████████████████████████| 4/4 [00:00<00:00, 3071.63it/s]\n",
      "100%|███████████████████████████████████████████| 4/4 [00:00<00:00, 3081.78it/s]\n",
      "100%|███████████████████████████████████████████| 4/4 [00:00<00:00, 3007.21it/s]\n",
      "100%|███████████████████████████████████████████| 4/4 [00:00<00:00, 3069.38it/s]\n",
      "100%|███████████████████████████████████████████| 5/5 [00:00<00:00, 3186.68it/s]\n",
      "100%|███████████████████████████████████████████| 4/4 [00:00<00:00, 2536.24it/s]\n",
      "100%|███████████████████████████████████████████| 5/5 [00:00<00:00, 3405.57it/s]\n",
      "100%|███████████████████████████████████████████| 4/4 [00:00<00:00, 2785.06it/s]\n",
      "100%|███████████████████████████████████████████| 4/4 [00:00<00:00, 2677.50it/s]\n",
      "100%|███████████████████████████████████████████| 4/4 [00:00<00:00, 2289.47it/s]\n",
      "100%|███████████████████████████████████████████| 4/4 [00:00<00:00, 3072.19it/s]\n",
      "100%|███████████████████████████████████████████| 4/4 [00:00<00:00, 3000.75it/s]\n",
      "100%|███████████████████████████████████████████| 4/4 [00:00<00:00, 3030.02it/s]\n",
      "100%|███████████████████████████████████████████| 4/4 [00:00<00:00, 2692.11it/s]\n",
      "100%|███████████████████████████████████████████| 5/5 [00:00<00:00, 2924.08it/s]\n",
      "100%|███████████████████████████████████████████| 4/4 [00:00<00:00, 2643.75it/s]\n",
      "100%|███████████████████████████████████████████| 6/6 [00:00<00:00, 3176.30it/s]\n",
      "100%|███████████████████████████████████████████| 4/4 [00:00<00:00, 2774.01it/s]\n",
      "100%|███████████████████████████████████████████| 5/5 [00:00<00:00, 2986.97it/s]\n",
      "100%|███████████████████████████████████████████| 4/4 [00:00<00:00, 2965.74it/s]\n",
      "100%|███████████████████████████████████████████| 4/4 [00:00<00:00, 2938.73it/s]\n",
      "100%|███████████████████████████████████████████| 4/4 [00:00<00:00, 3069.94it/s]\n",
      "100%|███████████████████████████████████████████| 4/4 [00:00<00:00, 2253.49it/s]\n",
      "100%|███████████████████████████████████████████| 4/4 [00:00<00:00, 3352.76it/s]\n",
      "100%|███████████████████████████████████████████| 3/3 [00:00<00:00, 2260.67it/s]\n",
      "100%|███████████████████████████████████████████| 4/4 [00:00<00:00, 3222.67it/s]\n",
      "100%|███████████████████████████████████████████| 5/5 [00:00<00:00, 3101.84it/s]\n",
      "100%|███████████████████████████████████████████| 5/5 [00:00<00:00, 3067.81it/s]\n",
      "100%|███████████████████████████████████████████| 4/4 [00:00<00:00, 2881.69it/s]\n",
      "100%|███████████████████████████████████████████| 4/4 [00:00<00:00, 3067.13it/s]\n",
      "100%|███████████████████████████████████████████| 4/4 [00:00<00:00, 2841.19it/s]\n",
      "100%|███████████████████████████████████████████| 4/4 [00:00<00:00, 2934.11it/s]\n",
      "100%|███████████████████████████████████████████| 5/5 [00:00<00:00, 3050.85it/s]\n",
      "100%|███████████████████████████████████████████| 4/4 [00:00<00:00, 2930.01it/s]\n",
      "100%|███████████████████████████████████████████| 5/5 [00:00<00:00, 3088.59it/s]\n",
      "100%|███████████████████████████████████████████| 4/4 [00:00<00:00, 3050.96it/s]\n",
      "100%|███████████████████████████████████████████| 5/5 [00:00<00:00, 2924.08it/s]\n",
      "100%|███████████████████████████████████████████| 5/5 [00:00<00:00, 2913.93it/s]\n",
      "100%|███████████████████████████████████████████| 4/4 [00:00<00:00, 3394.82it/s]\n",
      "100%|███████████████████████████████████████████| 4/4 [00:00<00:00, 3089.16it/s]\n",
      "100%|███████████████████████████████████████████| 4/4 [00:00<00:00, 2821.12it/s]\n",
      "100%|███████████████████████████████████████████| 4/4 [00:00<00:00, 3137.10it/s]\n",
      "100%|███████████████████████████████████████████| 4/4 [00:00<00:00, 2890.13it/s]\n",
      "100%|███████████████████████████████████████████| 4/4 [00:00<00:00, 2764.41it/s]\n",
      "100%|█████████████████████████████████████| 3669/3669 [00:03<00:00, 1027.32it/s]\n"
     ]
    }
   ],
   "source": [
    "vest_base = do_smart_repair(vest_base, min_rook_length = 30)"
   ]
  },
  {
   "cell_type": "code",
   "execution_count": 35,
   "id": "bfc304fe-7208-49cd-8685-8c17bb7cec79",
   "metadata": {},
   "outputs": [
    {
     "name": "stderr",
     "output_type": "stream",
     "text": [
      "100%|█████████████████████████████████████| 3669/3669 [00:03<00:00, 1027.88it/s]\n"
     ]
    },
    {
     "data": {
      "text/plain": [
       "True"
      ]
     },
     "execution_count": 35,
     "metadata": {},
     "output_type": "execute_result"
    }
   ],
   "source": [
    "maup.doctor(vest_base)"
   ]
  },
  {
   "cell_type": "code",
   "execution_count": 36,
   "id": "10e48467-d392-4312-b15f-bf18106f354c",
   "metadata": {},
   "outputs": [
    {
     "name": "stderr",
     "output_type": "stream",
     "text": [
      "100%|█████████████████████████████████████| 3669/3669 [00:02<00:00, 1306.77it/s]\n",
      "100%|██████████████████████████████████████| 3669/3669 [00:17<00:00, 208.86it/s]\n"
     ]
    }
   ],
   "source": [
    "# vap and population have the same GEOID20\n",
    "blocks_to_precincts_assignment = maup.assign(population_df.geometry, vest_base.geometry)"
   ]
  },
  {
   "cell_type": "code",
   "execution_count": 37,
   "id": "ac015a92-391c-48c4-b26a-5c511b58e3ab",
   "metadata": {},
   "outputs": [],
   "source": [
    "pop_col = ['TOTPOP', 'HISP', 'NH_WHITE', 'NH_BLACK', 'NH_AMIN', 'NH_ASIAN', 'NH_NHPI', 'NH_OTHER', 'NH_2MORE', 'H_WHITE', 'H_BLACK', 'H_AMIN', 'H_ASIAN', 'H_NHPI', 'H_OTHER', 'H_2MORE', 'VAP', 'HVAP', 'WVAP', 'BVAP', 'AMINVAP', 'ASIANVAP', 'NHPIVAP', 'OTHERVAP', '2MOREVAP']"
   ]
  },
  {
   "cell_type": "code",
   "execution_count": 38,
   "id": "f91b6866-727d-40c9-9d43-4a0e6ae8c0e2",
   "metadata": {},
   "outputs": [],
   "source": [
    "vest_base[pop_col] = population_df[pop_col].groupby(blocks_to_precincts_assignment).sum()"
   ]
  },
  {
   "cell_type": "code",
   "execution_count": 39,
   "id": "ead5880d-f5f1-44f0-8024-ff4789ff2f15",
   "metadata": {},
   "outputs": [],
   "source": [
    "election_df = gpd.GeoDataFrame(vest_base)"
   ]
  },
  {
   "cell_type": "markdown",
   "id": "cf1aefdb-30e0-4d1f-9261-01a513f4e1d3",
   "metadata": {},
   "source": [
    "### Check if the population agrees"
   ]
  },
  {
   "cell_type": "code",
   "execution_count": 41,
   "id": "d6ff200d-d1d6-4f7d-ba3b-142cddc0eb85",
   "metadata": {},
   "outputs": [
    {
     "name": "stdout",
     "output_type": "stream",
     "text": [
      "population agrees\n"
     ]
    }
   ],
   "source": [
    "check_population(population_df, vest_base)"
   ]
  },
  {
   "cell_type": "markdown",
   "id": "2b677d1a-cbe3-47aa-ae8a-761d0dfc7ad1",
   "metadata": {},
   "source": [
    "# Add more vest data"
   ]
  },
  {
   "cell_type": "code",
   "execution_count": 43,
   "id": "a404637a-46a1-41f4-bd81-6842a9a7274c",
   "metadata": {},
   "outputs": [],
   "source": [
    "vest20 = gpd.read_file(vest20_data)"
   ]
  },
  {
   "cell_type": "code",
   "execution_count": 44,
   "id": "d94c3765-b784-4e9b-9b29-0c8a3bbdbf0d",
   "metadata": {},
   "outputs": [
    {
     "data": {
      "text/plain": [
       "Index(['STATEFP20', 'COUNTYFP20', 'VTDST20', 'GEOID20', 'NAME20', 'G20PRERTRU',\n",
       "       'G20PREDBID', 'G20PRELJOR', 'G20PREIWES', 'G20PREIPIE', 'G20USSRMCC',\n",
       "       'G20USSDMCG', 'G20USSLBAR', 'geometry'],\n",
       "      dtype='object')"
      ]
     },
     "execution_count": 44,
     "metadata": {},
     "output_type": "execute_result"
    }
   ],
   "source": [
    "vest20.columns"
   ]
  },
  {
   "cell_type": "code",
   "execution_count": 45,
   "id": "e60b2e81-52d2-4043-aec2-176bcee78d60",
   "metadata": {},
   "outputs": [],
   "source": [
    "start_col = 5"
   ]
  },
  {
   "cell_type": "code",
   "execution_count": 46,
   "id": "5528f64a-1b5c-4b9f-b7cf-aefa45d4d25f",
   "metadata": {},
   "outputs": [
    {
     "name": "stderr",
     "output_type": "stream",
     "text": [
      "100%|█████████████████████████████████████| 1225/1225 [00:01<00:00, 1033.91it/s]\n"
     ]
    },
    {
     "name": "stdout",
     "output_type": "stream",
     "text": [
      "There are 2 overlaps.\n",
      "Snapping all geometries to a grid with precision 10^( -5 ) to avoid GEOS errors.\n",
      "Identifying overlaps...\n"
     ]
    },
    {
     "name": "stderr",
     "output_type": "stream",
     "text": [
      "100%|█████████████████████████████████████| 1344/1344 [00:00<00:00, 3811.23it/s]\n"
     ]
    },
    {
     "name": "stdout",
     "output_type": "stream",
     "text": [
      "Resolving overlaps...\n",
      "Assigning order 2 pieces...\n",
      "Filling gaps...\n"
     ]
    },
    {
     "name": "stderr",
     "output_type": "stream",
     "text": [
      "Gaps to simplify: 0it [00:00, ?it/s]\n",
      "Gaps to fill: 0it [00:00, ?it/s]\n",
      "100%|█████████████████████████████████████| 1225/1225 [00:01<00:00, 1012.81it/s]\n",
      "100%|██████████████████████████████████████| 1225/1225 [00:01<00:00, 671.78it/s]\n",
      "100%|██████████████████████████████████████| 1225/1225 [00:07<00:00, 174.60it/s]\n",
      "100%|█████████████████████████████████████| 3669/3669 [00:02<00:00, 1327.96it/s]\n",
      "100%|██████████████████████████████████████| 3669/3669 [00:17<00:00, 212.75it/s]\n"
     ]
    },
    {
     "name": "stdout",
     "output_type": "stream",
     "text": [
      "population agrees\n"
     ]
    }
   ],
   "source": [
    "# check the result here\n",
    "election_df = add_vest(vest20, election_df, '20', population_df, start_col)"
   ]
  },
  {
   "cell_type": "code",
   "execution_count": 47,
   "id": "4d7476dd-c003-4fa5-ab9b-8ed6f75bed39",
   "metadata": {
    "tags": []
   },
   "outputs": [
    {
     "data": {
      "text/plain": [
       "Index(['STATEFP16', 'COUNTYFP16', 'VTDST16', 'GEOID16', 'NAME16', 'G16PRERTRU',\n",
       "       'G16PREDCLI', 'G16PRELJOH', 'G16PREGSTE', 'G16PREIMCM', 'G16PREOFUE',\n",
       "       'G16USSRPAU', 'G16USSDGRA', 'geometry'],\n",
       "      dtype='object')"
      ]
     },
     "execution_count": 47,
     "metadata": {},
     "output_type": "execute_result"
    }
   ],
   "source": [
    "vest16 = gpd.read_file(vest16_data)\n",
    "vest16.columns"
   ]
  },
  {
   "cell_type": "code",
   "execution_count": 48,
   "id": "1fa76ec9-d1db-4f69-baf6-c45189ab6520",
   "metadata": {},
   "outputs": [],
   "source": [
    "start_col = 5"
   ]
  },
  {
   "cell_type": "code",
   "execution_count": 49,
   "id": "9cda5e9c-fabd-4499-841b-a3d49d5d501b",
   "metadata": {},
   "outputs": [
    {
     "name": "stderr",
     "output_type": "stream",
     "text": [
      "100%|█████████████████████████████████████| 3733/3733 [00:03<00:00, 1017.21it/s]\n"
     ]
    },
    {
     "name": "stdout",
     "output_type": "stream",
     "text": [
      "There are 2 overlaps.\n",
      "There are 1 holes.\n",
      "Snapping all geometries to a grid with precision 10^( -5 ) to avoid GEOS errors.\n",
      "Identifying overlaps...\n"
     ]
    },
    {
     "name": "stderr",
     "output_type": "stream",
     "text": [
      "100%|█████████████████████████████████████| 3763/3763 [00:00<00:00, 4238.17it/s]\n"
     ]
    },
    {
     "name": "stdout",
     "output_type": "stream",
     "text": [
      "Resolving overlaps...\n",
      "Assigning order 2 pieces...\n",
      "Filling gaps...\n"
     ]
    },
    {
     "name": "stderr",
     "output_type": "stream",
     "text": [
      "Gaps to simplify: 100%|███████████████████████████| 1/1 [00:00<00:00,  3.76it/s]\n",
      "Gaps to fill: 100%|███████████████████████████████| 1/1 [00:00<00:00,  3.71it/s]\n",
      "100%|█████████████████████████████████████| 3733/3733 [00:03<00:00, 1024.38it/s]\n",
      "100%|█████████████████████████████████████| 3733/3733 [00:02<00:00, 1278.30it/s]\n",
      "100%|██████████████████████████████████████| 3733/3733 [00:17<00:00, 211.08it/s]\n",
      "100%|█████████████████████████████████████| 3669/3669 [00:02<00:00, 1284.81it/s]\n",
      "100%|██████████████████████████████████████| 3669/3669 [00:17<00:00, 212.04it/s]\n"
     ]
    },
    {
     "name": "stdout",
     "output_type": "stream",
     "text": [
      "population agrees\n"
     ]
    }
   ],
   "source": [
    "election_df = add_vest(vest16, election_df, '16', population_df, start_col)"
   ]
  },
  {
   "cell_type": "markdown",
   "id": "10cf83d4-6005-485b-8193-c0149869a97e",
   "metadata": {},
   "source": [
    "## Add the district data"
   ]
  },
  {
   "cell_type": "code",
   "execution_count": 51,
   "id": "a0ccb606-7fe4-4b0a-998b-337d31f4abc5",
   "metadata": {},
   "outputs": [],
   "source": [
    "cong_df = gpd.read_file(cd_data)\n",
    "cong_df = cong_df.to_crs(cong_df.estimate_utm_crs())\n",
    "send = gpd.read_file(send_data)\n",
    "send = send.to_crs(send.estimate_utm_crs())\n",
    "hdist = gpd.read_file(hdist_data)\n",
    "hdist = hdist.to_crs(hdist.estimate_utm_crs())"
   ]
  },
  {
   "cell_type": "code",
   "execution_count": 52,
   "id": "2b8fbf45-f392-4996-9dc6-e9ee67d0e715",
   "metadata": {
    "tags": []
   },
   "outputs": [
    {
     "name": "stderr",
     "output_type": "stream",
     "text": [
      "100%|█████████████████████████████████████████████| 6/6 [00:00<00:00, 76.18it/s]\n",
      "100%|█████████████████████████████████████████████| 6/6 [00:00<00:00, 78.87it/s]\n",
      "100%|█████████████████████████████████████████████| 6/6 [00:00<00:00,  8.05it/s]\n"
     ]
    }
   ],
   "source": [
    "election_df = add_district(cong_df, \"CD\", election_df, \"DISTRICT\")"
   ]
  },
  {
   "cell_type": "code",
   "execution_count": 53,
   "id": "a9fe98af-f37e-4200-835e-f96695f68e41",
   "metadata": {
    "tags": []
   },
   "outputs": [
    {
     "name": "stderr",
     "output_type": "stream",
     "text": [
      "100%|██████████████████████████████████████████| 38/38 [00:00<00:00, 135.53it/s]\n",
      "100%|██████████████████████████████████████████| 38/38 [00:00<00:00, 312.69it/s]\n",
      "100%|███████████████████████████████████████████| 38/38 [00:01<00:00, 25.48it/s]\n"
     ]
    }
   ],
   "source": [
    "election_df = add_district(send, \"SEND\", election_df, \"DISTRICT\")"
   ]
  },
  {
   "cell_type": "code",
   "execution_count": 54,
   "id": "da4c6235-1028-43d0-adde-affe669c3f20",
   "metadata": {
    "tags": []
   },
   "outputs": [
    {
     "name": "stderr",
     "output_type": "stream",
     "text": [
      "100%|████████████████████████████████████████| 100/100 [00:00<00:00, 221.25it/s]\n",
      "100%|████████████████████████████████████████| 100/100 [00:00<00:00, 687.76it/s]\n",
      "100%|█████████████████████████████████████████| 100/100 [00:02<00:00, 43.71it/s]\n"
     ]
    }
   ],
   "source": [
    "election_df = add_district(hdist, \"HDIST\", election_df, \"DISTRICT\")"
   ]
  },
  {
   "cell_type": "code",
   "execution_count": 55,
   "id": "aaee6a30-6a18-473e-bd02-7881c1e94e68",
   "metadata": {},
   "outputs": [
    {
     "data": {
      "text/plain": [
       "Index(['2MOREVAP', 'AGR19D', 'AGR19O', 'AGR19R', 'AMINVAP', 'ASIANVAP',\n",
       "       'ATG19D', 'ATG19R', 'AUD19D', 'AUD19O', 'AUD19R', 'BVAP', 'COUNTYFP',\n",
       "       'GOV19D', 'GOV19O', 'GOV19R', 'HISP', 'HVAP', 'H_2MORE', 'H_AMIN',\n",
       "       'H_ASIAN', 'H_BLACK', 'H_NHPI', 'H_OTHER', 'H_WHITE', 'NAME', 'NHPIVAP',\n",
       "       'NH_2MORE', 'NH_AMIN', 'NH_ASIAN', 'NH_BLACK', 'NH_NHPI', 'NH_OTHER',\n",
       "       'NH_WHITE', 'OTHERVAP', 'PRE16D', 'PRE16O', 'PRE16R', 'PRE20D',\n",
       "       'PRE20O', 'PRE20R', 'SOS19D', 'SOS19R', 'STATEFP', 'TOTPOP', 'TRE19D',\n",
       "       'TRE19R', 'USS16D', 'USS16R', 'USS20D', 'USS20O', 'USS20R', 'VAP',\n",
       "       'VTDST', 'WVAP', 'geometry', 'CD', 'SEND', 'HDIST'],\n",
       "      dtype='object')"
      ]
     },
     "execution_count": 55,
     "metadata": {},
     "output_type": "execute_result"
    }
   ],
   "source": [
    "election_df.columns"
   ]
  },
  {
   "cell_type": "markdown",
   "id": "0bba365b-7d46-45ea-9b8b-400fc162a82f",
   "metadata": {},
   "source": [
    "### Put the base precinct year after the precinct information column"
   ]
  },
  {
   "cell_type": "code",
   "execution_count": 57,
   "id": "7086205b-49f4-44a7-be19-9eeac924e07b",
   "metadata": {},
   "outputs": [],
   "source": [
    "base_columns = {}\n",
    "if 'COUNTYFP' + year not in election_df.columns:\n",
    "    base_columns = {\n",
    "        'STATEFP':'STATEFP'+year,\n",
    "        'COUNTYFP':'COUNTYFP'+year,\n",
    "        'VTDST':'VTDST'+year,\n",
    "        'GEOID':'GEOID'+year,\n",
    "        'NAME':'NAME'+year}\n",
    "election_df.rename(columns=base_columns, inplace = True)"
   ]
  },
  {
   "cell_type": "code",
   "execution_count": 58,
   "id": "3ea62760-cc32-4fcc-8475-c3ba956cb901",
   "metadata": {},
   "outputs": [],
   "source": [
    "# reorder the columns\n",
    "fixed_columns = [\n",
    "    'STATEFP'+year,\n",
    "    'COUNTYFP'+year,\n",
    "    'VTDST'+year,\n",
    "    'NAME'+year,\n",
    "    'CD',\n",
    "    'SEND',\n",
    "    'HDIST',\n",
    "    'TOTPOP',\n",
    "    'NH_2MORE',\n",
    "    'NH_AMIN',\n",
    "    'NH_ASIAN',\n",
    "    'NH_BLACK',\n",
    "    'NH_NHPI',\n",
    "    'NH_OTHER',\n",
    "    'NH_WHITE',\n",
    "    'HISP',\n",
    "    'H_AMIN',\n",
    "    'H_ASIAN',\n",
    "    'H_BLACK',\n",
    "    'H_NHPI',\n",
    "    'H_OTHER',\n",
    "    'H_WHITE',\n",
    "    'H_2MORE',\n",
    "    'VAP',\n",
    "    'HVAP',\n",
    "    'WVAP',\n",
    "    'BVAP',\n",
    "    'AMINVAP',\n",
    "    'ASIANVAP',\n",
    "    'NHPIVAP',\n",
    "    'OTHERVAP',\n",
    "    '2MOREVAP']\n",
    "\n",
    "election_columns = [col for col in election_df.columns if col not in fixed_columns]\n",
    "final_col = fixed_columns + election_columns\n",
    "election_df = election_df[final_col]"
   ]
  },
  {
   "cell_type": "code",
   "execution_count": 59,
   "id": "1b198042-dbd4-408e-bfd4-4494f2b49245",
   "metadata": {
    "tags": []
   },
   "outputs": [],
   "source": [
    "directory = \"./{}\".format(state_ab)\n",
    "if not os.path.exists(directory):\n",
    "    os.makedirs(directory)\n",
    "\n",
    "shapefile_path = \"./{}/{}.shp\".format(state_ab, state_ab)\n",
    "geojson_path = './{}/{}.geojson'.format(state_ab, state_ab)\n",
    "json_path = \"./{}.json\".format(state_ab, state_ab)\n",
    "\n",
    "# Check if the shapefile or geojson file already exists\n",
    "if os.path.exists(shapefile_path):\n",
    "    os.remove(shapefile_path)\n",
    "if os.path.exists(geojson_path):\n",
    "    os.remove(geojson_path)\n",
    "\n",
    "election_df.to_file(shapefile_path)\n",
    "election_df.to_file(geojson_path, driver='GeoJSON')\n",
    "\n",
    "# Only do once to build json and read from file when generating ensembles\n",
    "graph = Graph.from_file(shapefile_path, ignore_errors=True)\n",
    "graph.to_json(json_path)"
   ]
  },
  {
   "cell_type": "code",
   "execution_count": 60,
   "id": "a8ba4789-8282-428a-90d4-e59ee50f4064",
   "metadata": {},
   "outputs": [
    {
     "data": {
      "text/plain": [
       "<Axes: >"
      ]
     },
     "execution_count": 60,
     "metadata": {},
     "output_type": "execute_result"
    },
    {
     "data": {
      "image/png": "[encoded data removed]",
      "text/plain": [
       "<Figure size 640x480 with 1 Axes>"
      ]
     },
     "metadata": {},
     "output_type": "display_data"
    }
   ],
   "source": [
    "shapefile_path = \"./{}/{}.shp\".format(state_ab, state_ab)\n",
    "shape=gpd.read_file(shapefile_path)\n",
    "shape.plot()"
   ]
  },
  {
   "cell_type": "code",
   "execution_count": 61,
   "id": "71caf4cf-af8e-4398-a64c-f73635af7c3e",
   "metadata": {},
   "outputs": [
    {
     "data": {
      "text/plain": [
       "Index(['STATEFP19', 'COUNTYFP19', 'VTDST19', 'NAME19', 'CD', 'SEND', 'HDIST',\n",
       "       'TOTPOP', 'NH_2MORE', 'NH_AMIN', 'NH_ASIAN', 'NH_BLACK', 'NH_NHPI',\n",
       "       'NH_OTHER', 'NH_WHITE', 'HISP', 'H_AMIN', 'H_ASIAN', 'H_BLACK',\n",
       "       'H_NHPI', 'H_OTHER', 'H_WHITE', 'H_2MORE', 'VAP', 'HVAP', 'WVAP',\n",
       "       'BVAP', 'AMINVAP', 'ASIANVAP', 'NHPIVAP', 'OTHERVAP', '2MOREVAP',\n",
       "       'AGR19D', 'AGR19O', 'AGR19R', 'ATG19D', 'ATG19R', 'AUD19D', 'AUD19O',\n",
       "       'AUD19R', 'GOV19D', 'GOV19O', 'GOV19R', 'PRE16D', 'PRE16O', 'PRE16R',\n",
       "       'PRE20D', 'PRE20O', 'PRE20R', 'SOS19D', 'SOS19R', 'TRE19D', 'TRE19R',\n",
       "       'USS16D', 'USS16R', 'USS20D', 'USS20O', 'USS20R', 'geometry'],\n",
       "      dtype='object')"
      ]
     },
     "execution_count": 61,
     "metadata": {},
     "output_type": "execute_result"
    }
   ],
   "source": [
    "election_df.columns"
   ]
  },
  {
   "cell_type": "code",
   "execution_count": null,
   "id": "a3e4407a-9e4d-4201-8c80-880887556ece",
   "metadata": {},
   "outputs": [],
   "source": []
  }
 ],
 "metadata": {
  "kernelspec": {
   "display_name": "gerry",
   "language": "python",
   "name": "gerry"
  },
  "language_info": {
   "codemirror_mode": {
    "name": "ipython",
    "version": 3
   },
   "file_extension": ".py",
   "mimetype": "text/x-python",
   "name": "python",
   "nbconvert_exporter": "python",
   "pygments_lexer": "ipython3",
   "version": "3.11.4"
  }
 },
 "nbformat": 4,
 "nbformat_minor": 5
}
